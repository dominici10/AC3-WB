{
 "cells": [
  {
   "cell_type": "code",
   "execution_count": 90,
   "metadata": {},
   "outputs": [],
   "source": [
    "import re\n",
    "import unicodedata\n",
    "import pandas as pd\n",
    "import numpy as np\n",
    "import matplotlib.pyplot as plt\n",
    "%matplotlib inline\n"
   ]
  },
  {
   "cell_type": "code",
   "execution_count": 91,
   "metadata": {},
   "outputs": [],
   "source": [
    "df = pd.read_csv('../bases_originais/dados.csv', delimiter=',')"
   ]
  },
  {
   "cell_type": "code",
   "execution_count": 92,
   "metadata": {},
   "outputs": [
    {
     "name": "stderr",
     "output_type": "stream",
     "text": [
      "/tmp/ipykernel_45298/3109828352.py:10: FutureWarning: The default value of regex will change from True to False in a future version.\n",
      "  df['Preço'] = df['Preço'].str.replace('R\\$', '').str.replace(',', '.')\n"
     ]
    }
   ],
   "source": [
    "# expressão regular para remover caracteres especiais\n",
    "df['Título'] = df['Título'].str.replace(\"[\\[\\]+\\-/º\\\"']\", \"\", regex=True)\n",
    "df['Título'] = df['Título'].apply(lambda x: unicodedata.normalize('NFKD', x).encode('ASCII', 'ignore').decode('ASCII'))\n",
    "df['Título'] = df['Título'].str.replace('í', 'i').str.replace('ó', 'o').str.replace('ê', 'e')\n",
    "df['Preço'] = df['Preço'].str.replace('[\\[\\]\\\"\\']|R\\$', '', regex=True)\n",
    "# Remover o primeiro valor\n",
    "df['Preço'] = df['Preço'].str.replace('^\\d+(,\\d+)?\\s+', '', regex=True)\n",
    "# Remover a palavra \"por\"\n",
    "df['Preço'] = df['Preço'].str.replace('por', '', regex=True).str.strip()\n",
    "df['Preço'] = df['Preço'].str.replace('R\\$', '').str.replace(',', '.')\n"
   ]
  },
  {
   "cell_type": "code",
   "execution_count": 93,
   "metadata": {},
   "outputs": [
    {
     "name": "stdout",
     "output_type": "stream",
     "text": [
      "Não há registros duplicados.\n"
     ]
    }
   ],
   "source": [
    "#Vê se no aqrvivo csv existe duplicatas \n",
    "duplicates = df.duplicated().sum()\n",
    "if duplicates > 0:\n",
    "    df.drop_duplicates(inplace=True)\n",
    "    print(f'{duplicates} registros duplicados foram removidos.')\n",
    "else:\n",
    "    print('Não há registros duplicados.')\n"
   ]
  },
  {
   "cell_type": "code",
   "execution_count": 94,
   "metadata": {},
   "outputs": [],
   "source": [
    "##Removendo valores duplicados\n",
    "df = df[df['Preço'].astype(bool)]"
   ]
  },
  {
   "cell_type": "code",
   "execution_count": 95,
   "metadata": {},
   "outputs": [
    {
     "data": {
      "image/png": "[encoded data removed]",
      "text/plain": [
       "<Figure size 640x480 with 1 Axes>"
      ]
     },
     "metadata": {},
     "output_type": "display_data"
    }
   ],
   "source": [
    "##Verifique a existência de outliers\n",
    "df['Preço'] = df['Preço'].apply(lambda x: re.findall(r'\\d+\\.\\d+', x)[0]).astype(float)\n",
    "plt.boxplot(df['Preço'])\n",
    "plt.show()"
   ]
  },
  {
   "cell_type": "code",
   "execution_count": 96,
   "metadata": {},
   "outputs": [
    {
     "name": "stdout",
     "output_type": "stream",
     "text": [
      "88 outliers foram removidos.\n"
     ]
    }
   ],
   "source": [
    "##Removendo os outliers\n",
    "Q1 = df['Preço'].quantile(0.25)\n",
    "Q3 = df['Preço'].quantile(0.75)\n",
    "IQR = Q3 - Q1\n",
    "upper = Q3 + 1.5 * IQR\n",
    "lower = Q1 - 1.5 * IQR\n",
    "\n",
    "outliers = df[(df['Preço'] > upper) | (df['Preço'] < lower)]\n",
    "if not outliers.empty:\n",
    "    df.drop(outliers.index, inplace=True)\n",
    "    print(f'{outliers.shape[0]} outliers foram removidos.')\n",
    "else:\n",
    "    print('Não há outliers.')\n"
   ]
  },
  {
   "cell_type": "code",
   "execution_count": 86,
   "metadata": {},
   "outputs": [],
   "source": [
    "##Crie um padrão de nomenclatura para os nomes das colunas (retirando caracteres especiais)\n",
    "df.rename(columns={\"Título\": \"titulo\", \"Preço\": \"preco\"}, inplace=True)"
   ]
  },
  {
   "cell_type": "code",
   "execution_count": 87,
   "metadata": {},
   "outputs": [],
   "source": [
    "##Salve a base de dados na pasta bases tratadas\n",
    "df.to_csv('../bases_tratadas/dados_tratados.csv', index=False)"
   ]
  }
 ],
 "metadata": {
  "kernelspec": {
   "display_name": "Python 3",
   "language": "python",
   "name": "python3"
  },
  "language_info": {
   "codemirror_mode": {
    "name": "ipython",
    "version": 3
   },
   "file_extension": ".py",
   "mimetype": "text/x-python",
   "name": "python",
   "nbconvert_exporter": "python",
   "pygments_lexer": "ipython3",
   "version": "3.8.10"
  },
  "orig_nbformat": 4
 },
 "nbformat": 4,
 "nbformat_minor": 2
}
